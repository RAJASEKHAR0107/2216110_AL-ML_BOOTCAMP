{
  "nbformat": 4,
  "nbformat_minor": 0,
  "metadata": {
    "colab": {
      "name": "D1-Assign.ipynb",
      "provenance": []
    },
    "kernelspec": {
      "name": "python3",
      "display_name": "Python 3"
    },
    "language_info": {
      "name": "python"
    }
  },
  "cells": [
    {
      "cell_type": "markdown",
      "source": [
        "Q1)Implement the methods of String with examples.\n",
        "\n"
      ],
      "metadata": {
        "id": "Ekcd7UijeT6N"
      }
    },
    {
      "cell_type": "code",
      "execution_count": 1,
      "metadata": {
        "colab": {
          "base_uri": "https://localhost:8080/"
        },
        "id": "y6pUsgQqeRJl",
        "outputId": "cd723538-484a-45b7-ce1e-9ad9ce1fe9d9"
      },
      "outputs": [
        {
          "output_type": "stream",
          "name": "stdout",
          "text": [
            "i am learning python from gradstallar\n",
            "I Am Learning Python From Gradstallar\n",
            "i am learning python from gradstallar\n",
            "I AM LEARNING PYTHON FROM GRADSTALLAR\n",
            "I am learning python from gradstallar\n",
            "3\n",
            "rajajjjj\n",
            "jjjjraja\n",
            "raja\n"
          ]
        }
      ],
      "source": [
        "str1='i am learning python from gradstallar'\n",
        "print(str1)\n",
        "print(str1.title())\n",
        "print(str1.lower())\n",
        "print(str1.upper())\n",
        "print(str1.capitalize())\n",
        "\n",
        "# count\n",
        "st1='ravi is very violent'\n",
        "print(st1.count('v'))\n",
        "\n",
        "#strips\n",
        "s='jjjjrajajjjj'\n",
        "print(s.lstrip('j'))\n",
        "print(s.rstrip('j'))\n",
        "print(s.strip('j'))"
      ]
    },
    {
      "cell_type": "markdown",
      "source": [
        "Q2) Implement the methods of List with examples."
      ],
      "metadata": {
        "id": "Ji7Qun47emZm"
      }
    },
    {
      "cell_type": "code",
      "source": [
        "l1=[1,2,3,4,'apple','mango','banana']\n",
        "print(l1)\n",
        "#methods of adding an elements into the list\n",
        "l1.append(5.3)\n",
        "print(l1)\n",
        "\n",
        "l1.insert(3,6)\n",
        "print(l1)\n",
        "\n",
        "l1.extend([4,5,6])\n",
        "print(l1)\n",
        "#Methods to delete the list elements\n",
        "l1.pop()\n",
        "print(l1)\n",
        "l1.pop(0)\n",
        "print(l1)\n",
        "l1.remove(3)\n",
        "print(l1)\n",
        "\n",
        "#reversing\n",
        "l1.reverse()\n",
        "print(l1)\n",
        "\n",
        "#index\n",
        "print(l1.index('apple'))\n",
        "l1.clear()\n",
        "print(l1)"
      ],
      "metadata": {
        "id": "V3d1MCzUegvJ"
      },
      "execution_count": null,
      "outputs": []
    },
    {
      "cell_type": "markdown",
      "source": [
        "Q3)Implement the methods of Tuple with examples"
      ],
      "metadata": {
        "id": "o6t-emIifR0I"
      }
    },
    {
      "cell_type": "code",
      "source": [
        "t1=(1,2,3,4,'apple','mango','banana',2,3,2)\n",
        "print(t1)\n",
        "print(t1.count(2),'times 2 value repeated in the tuple')\n",
        "print('The index of mango is :', t1.index('mango'))"
      ],
      "metadata": {
        "colab": {
          "base_uri": "https://localhost:8080/"
        },
        "id": "NmIY5xgsf0U4",
        "outputId": "7a25ac33-1cb3-4f06-822e-6947a5b10d3a"
      },
      "execution_count": 2,
      "outputs": [
        {
          "output_type": "stream",
          "name": "stdout",
          "text": [
            "(1, 2, 3, 4, 'apple', 'mango', 'banana', 2, 3, 2)\n",
            "3 times 2 value repeated in the tuple\n",
            "The index of mango is : 5\n"
          ]
        }
      ]
    },
    {
      "cell_type": "markdown",
      "source": [
        "Q4) Implement the methods of Dictionary with examples."
      ],
      "metadata": {
        "id": "c8B7V3DSf6Kh"
      }
    },
    {
      "cell_type": "code",
      "source": [
        "bd={'name':'raja','age':20,'phnno':9121323530}\n",
        "print(bd)\n",
        "\n",
        "print(bd.keys())\n",
        "\n",
        "print(bd.values())\n",
        "\n",
        "bd.pop('name')\n",
        "print(bd)\n",
        "\n",
        "bd.popitem()\n",
        "print(bd)\n",
        "x=bd.copy()\n",
        "print(x)\n",
        "\n",
        "x.update({'address':'warangal'})\n",
        "print(x)\n",
        "\n",
        "print(x.items())\n",
        "\n",
        "x.clear()\n",
        "print(x)"
      ],
      "metadata": {
        "colab": {
          "base_uri": "https://localhost:8080/"
        },
        "id": "Vwr9n9j9f08h",
        "outputId": "7b5353f3-5791-46ff-929e-d9446bcc650e"
      },
      "execution_count": 3,
      "outputs": [
        {
          "output_type": "stream",
          "name": "stdout",
          "text": [
            "{'name': 'raja', 'age': 20, 'phnno': 9121323530}\n",
            "dict_keys(['name', 'age', 'phnno'])\n",
            "dict_values(['raja', 20, 9121323530])\n",
            "{'age': 20, 'phnno': 9121323530}\n",
            "{'age': 20}\n",
            "{'age': 20}\n",
            "{'age': 20, 'address': 'warangal'}\n",
            "dict_items([('age', 20), ('address', 'warangal')])\n",
            "{}\n"
          ]
        }
      ]
    },
    {
      "cell_type": "markdown",
      "source": [
        "Q5) Implement the methods of Set with examples."
      ],
      "metadata": {
        "id": "DQFtmAxsgZ12"
      }
    },
    {
      "cell_type": "code",
      "source": [
        "s={1,2,3,'ramesh',3.5,4}\n",
        "p={}\n",
        "print(s)\n",
        "s.add(5)\n",
        "print(s)\n",
        "l=(3,5.6,'ramesh')\n",
        "print(s.union(l))\n",
        "\n",
        "print(s.intersection(l))\n",
        "\n",
        "print(s.difference(l))\n",
        "\n",
        "s.remove('ramesh')\n",
        "\n",
        "s.update({25,'ramesh'})"
      ],
      "metadata": {
        "colab": {
          "base_uri": "https://localhost:8080/"
        },
        "id": "ywx2zMjPgagf",
        "outputId": "b3bbc772-ff9a-48d7-c16f-98e21c399938"
      },
      "execution_count": 4,
      "outputs": [
        {
          "output_type": "stream",
          "name": "stdout",
          "text": [
            "{1, 2, 3.5, 3, 4, 'ramesh'}\n",
            "{1, 2, 3.5, 3, 4, 5, 'ramesh'}\n",
            "{1, 2, 3.5, 3, 4, 5, 5.6, 'ramesh'}\n",
            "{3, 'ramesh'}\n",
            "{1, 2, 3.5, 4, 5}\n"
          ]
        }
      ]
    },
    {
      "cell_type": "markdown",
      "source": [
        "Q6)Write a python program to convert Decimal to Binary, Octal and Hexadecimal with direct method."
      ],
      "metadata": {
        "id": "B1ogXahNgmZb"
      }
    },
    {
      "cell_type": "code",
      "source": [
        "num=int(input(\"Enter a number:\"))\n",
        "print(bin(num))\n",
        "print(oct(num))\n",
        "print(hex(num))"
      ],
      "metadata": {
        "colab": {
          "base_uri": "https://localhost:8080/"
        },
        "id": "fBRelt2jgjcR",
        "outputId": "cef69a66-eb7d-4cc4-cdf1-9cc8799c28e7"
      },
      "execution_count": 5,
      "outputs": [
        {
          "output_type": "stream",
          "name": "stdout",
          "text": [
            "Enter a number:52\n",
            "0b110100\n",
            "0o64\n",
            "0x34\n"
          ]
        }
      ]
    },
    {
      "cell_type": "markdown",
      "source": [
        "Q7) Implement Arithmetic operators with examples"
      ],
      "metadata": {
        "id": "pSsBBgJxwx86"
      }
    },
    {
      "cell_type": "code",
      "source": [
        "a=int(input(\"Enter a number:\"))\n",
        "b=int(input(\"Enter a number:\"))\n",
        "print(a+b)\n",
        "print(abs(a-b))\n",
        "print(a*b)\n",
        "print(a/b)\n",
        "print(a%b)\n",
        "print(a**b)\n",
        "print(a//b)"
      ],
      "metadata": {
        "colab": {
          "base_uri": "https://localhost:8080/"
        },
        "id": "p-HWxalBwwRn",
        "outputId": "5ada6fc3-96f1-4b88-851e-a926c61acdae"
      },
      "execution_count": 6,
      "outputs": [
        {
          "output_type": "stream",
          "name": "stdout",
          "text": [
            "Enter a number:5\n",
            "Enter a number:6\n",
            "11\n",
            "1\n",
            "30\n",
            "0.8333333333333334\n",
            "5\n",
            "15625\n",
            "0\n"
          ]
        }
      ]
    },
    {
      "cell_type": "markdown",
      "source": [
        "Q8) Implement Assignment operators with examples."
      ],
      "metadata": {
        "id": "Xj_rPRlqw7Zp"
      }
    },
    {
      "cell_type": "code",
      "source": [
        "x=58\n",
        "y=40\n",
        "print(x)\n",
        "x+=3\n",
        "print(x)\n",
        "x-=3\n",
        "print(x)\n",
        "x*=3\n",
        "print(x)\n",
        "x/=3\n",
        "print(x)\n",
        "x%=3\n",
        "print(x)\n",
        "y//=3\n",
        "print(y)\n",
        "y**=3\n",
        "print(y)"
      ],
      "metadata": {
        "colab": {
          "base_uri": "https://localhost:8080/"
        },
        "id": "j-IPTGIsw3e0",
        "outputId": "3a95682e-2005-4e71-9f12-d583a9d803fb"
      },
      "execution_count": 7,
      "outputs": [
        {
          "output_type": "stream",
          "name": "stdout",
          "text": [
            "58\n",
            "61\n",
            "58\n",
            "174\n",
            "58.0\n",
            "1.0\n",
            "13\n",
            "2197\n"
          ]
        }
      ]
    },
    {
      "cell_type": "markdown",
      "source": [
        "Q9) Implement Comparison operators with examples."
      ],
      "metadata": {
        "id": "jMy7OgVrxELR"
      }
    },
    {
      "cell_type": "code",
      "source": [
        "x1=\"yes\"\n",
        "y1=\"no\"\n",
        "print(x1==y1)\n",
        "print(x1!=y1)\n",
        "print(x1>y1)\n",
        "print(x1<y1)\n",
        "print(x1>=y1)\n",
        "print(x1<=y1)"
      ],
      "metadata": {
        "colab": {
          "base_uri": "https://localhost:8080/"
        },
        "id": "Ok12IQWyxDMN",
        "outputId": "1b3c201a-d72d-4dbe-d3be-1f9617a68e09"
      },
      "execution_count": 8,
      "outputs": [
        {
          "output_type": "stream",
          "name": "stdout",
          "text": [
            "False\n",
            "True\n",
            "True\n",
            "False\n",
            "True\n",
            "False\n"
          ]
        }
      ]
    },
    {
      "cell_type": "markdown",
      "source": [
        "Q10) Implement Logical operators with examples."
      ],
      "metadata": {
        "id": "cYq2JCRixMjC"
      }
    },
    {
      "cell_type": "code",
      "source": [
        "a1=11\n",
        "b1=5\n",
        "print(a1==5 and b1==11)\n",
        "print(a1==11 or b1==5)\n",
        "print(not a1==b1)"
      ],
      "metadata": {
        "colab": {
          "base_uri": "https://localhost:8080/"
        },
        "id": "iuimmvACxJu8",
        "outputId": "3e93f8cf-5062-48df-97b3-db62d28ee633"
      },
      "execution_count": 10,
      "outputs": [
        {
          "output_type": "stream",
          "name": "stdout",
          "text": [
            "False\n",
            "True\n",
            "True\n"
          ]
        }
      ]
    },
    {
      "cell_type": "markdown",
      "source": [
        "Q11)Implement Bitwise operators with examples"
      ],
      "metadata": {
        "id": "sQdkJHUJxUwO"
      }
    },
    {
      "cell_type": "code",
      "source": [
        "c=1\n",
        "d=2\n",
        "print(c==23 & d==46)\n",
        "print(c&d)\n",
        "print(c==25|d==20)\n",
        "print(c&d)\n",
        "print(c^d)\n",
        "print(~c)\n",
        "print(c>>2)\n",
        "print(d<<2)"
      ],
      "metadata": {
        "colab": {
          "base_uri": "https://localhost:8080/"
        },
        "id": "EyoWse2RxQHq",
        "outputId": "6c0ae743-24de-435e-ec07-1635f082597f"
      },
      "execution_count": 11,
      "outputs": [
        {
          "output_type": "stream",
          "name": "stdout",
          "text": [
            "False\n",
            "0\n",
            "False\n",
            "0\n",
            "3\n",
            "-2\n",
            "0\n",
            "8\n"
          ]
        }
      ]
    },
    {
      "cell_type": "markdown",
      "source": [
        "Q12)Implement Membership operators with examples."
      ],
      "metadata": {
        "id": "yaAWUHK8xklq"
      }
    },
    {
      "cell_type": "code",
      "source": [
        "st1=\"hello world\"\n",
        "print('h' in st1)\n",
        "print('p' in st1)\n",
        "print(\"llo\" in st1)\n",
        "print('h' not in st1)\n",
        "print('a' not in st1)\n",
        "print(\"llo\" not in st1)"
      ],
      "metadata": {
        "colab": {
          "base_uri": "https://localhost:8080/"
        },
        "id": "D8ktw0KUxaC3",
        "outputId": "b1f9b34d-7609-47af-a9fc-4d198ea00e59"
      },
      "execution_count": 12,
      "outputs": [
        {
          "output_type": "stream",
          "name": "stdout",
          "text": [
            "True\n",
            "False\n",
            "True\n",
            "False\n",
            "True\n",
            "False\n"
          ]
        }
      ]
    },
    {
      "cell_type": "markdown",
      "source": [
        "Q13)Implement Identity operators with examples"
      ],
      "metadata": {
        "id": "MoYkrt18xvLq"
      }
    },
    {
      "cell_type": "code",
      "source": [
        "e=96\n",
        "f='11'\n",
        "print(e is f)\n",
        "print(e is not f)"
      ],
      "metadata": {
        "colab": {
          "base_uri": "https://localhost:8080/"
        },
        "id": "sCIopuMvxuKT",
        "outputId": "7dfced1e-9e1b-4488-ed59-f0b40632de2b"
      },
      "execution_count": 13,
      "outputs": [
        {
          "output_type": "stream",
          "name": "stdout",
          "text": [
            "False\n",
            "True\n"
          ]
        }
      ]
    },
    {
      "cell_type": "markdown",
      "source": [
        ""
      ],
      "metadata": {
        "id": "WztDi-QGx4DT"
      }
    },
    {
      "cell_type": "markdown",
      "source": [
        "Q14)Demonstrate Negative indexing for List and apply slicing.\n",
        "\n"
      ],
      "metadata": {
        "id": "lOOKxbu6x8Fw"
      }
    },
    {
      "cell_type": "code",
      "source": [
        "l1=[1,2,3,4,5,46,'raja']\n",
        "# negative indexing\n",
        "print(l1[-1])\n",
        "print(l1[-7])\n",
        "print(l1[-4])\n",
        "#slicing\n",
        "print(l1[1:])\n",
        "print(l1[:])\n",
        "print(l1[::-1])"
      ],
      "metadata": {
        "colab": {
          "base_uri": "https://localhost:8080/"
        },
        "id": "vqne6ZU5x3Lt",
        "outputId": "1584c9b6-c5de-4677-e933-a4c1ab599b56"
      },
      "execution_count": 15,
      "outputs": [
        {
          "output_type": "stream",
          "name": "stdout",
          "text": [
            "raja\n",
            "1\n",
            "4\n",
            "[2, 3, 4, 5, 46, 'raja']\n",
            "[1, 2, 3, 4, 5, 46, 'raja']\n",
            "['raja', 46, 5, 4, 3, 2, 1]\n"
          ]
        }
      ]
    },
    {
      "cell_type": "markdown",
      "source": [
        "Q15)Predict the output for the given code snippet and justify the result."
      ],
      "metadata": {
        "id": "4NpeLHOIyKPM"
      }
    },
    {
      "cell_type": "code",
      "source": [
        "print( 'A series of characters designated as one object known as a string'[::-1][4::3] )\n",
        "#[::-1] it is for reversing and [4::3] it starts from 4 th index with step size as 3\n",
        "print(\"------------\")\n",
        "print( 'welcome to Python traing program'[3:10][::-1])\n",
        "#[3:10] it starts from 3 rd index and stops at 10 th index and the it will reverse the string"
      ],
      "metadata": {
        "colab": {
          "base_uri": "https://localhost:8080/"
        },
        "id": "a0Bp5ARgyG4n",
        "outputId": "0d13657a-50fa-4a03-ec2e-47420ebc8bc5"
      },
      "execution_count": 16,
      "outputs": [
        {
          "output_type": "stream",
          "name": "stdout",
          "text": [
            "taawkcbe  tgestrcoeeA\n",
            "------------\n",
            "ot emoc\n"
          ]
        }
      ]
    },
    {
      "cell_type": "markdown",
      "source": [
        "Q16)Write a python code to get desired output; Input string : p_phrase = \"was it a car or a cat I saw\"; Output string : WAS I TAC A RO RAC A TI SAW"
      ],
      "metadata": {
        "id": "NKeD2SPUycaz"
      }
    },
    {
      "cell_type": "code",
      "source": [
        "p_phrase=\"was it a car or a cat I saw\"\n",
        "str22=p_phrase.upper()\n",
        "print(str22[::-1])"
      ],
      "metadata": {
        "colab": {
          "base_uri": "https://localhost:8080/"
        },
        "id": "IvpoaMOtyZO9",
        "outputId": "0235b330-db37-4ee0-aa79-0ac0863f9672"
      },
      "execution_count": 17,
      "outputs": [
        {
          "output_type": "stream",
          "name": "stdout",
          "text": [
            "WAS I TAC A RO RAC A TI SAW\n"
          ]
        }
      ]
    },
    {
      "cell_type": "markdown",
      "source": [
        "Q17). You are required to generate a word similar to ZOO, X and Y that denote the number of Zs and Os respectively. The generated word similar to ZOO where Y= 2 * X. Input X= 2 Output ZZOOOO Input X= 5 Output ZZZZZOOOOOOOOOO"
      ],
      "metadata": {
        "id": "RFtI65x-yfwC"
      }
    },
    {
      "cell_type": "code",
      "source": [
        "x=int(input(\"Enter a number=\"))\n",
        "y=2*x\n",
        "print('x=',x)\n",
        "print('y=',y)\n",
        "print('Z'*x,'O'*y,sep='')"
      ],
      "metadata": {
        "colab": {
          "base_uri": "https://localhost:8080/"
        },
        "id": "io6RgMQOye7C",
        "outputId": "a5275549-2bba-43cd-8458-3de720af58c5"
      },
      "execution_count": 18,
      "outputs": [
        {
          "output_type": "stream",
          "name": "stdout",
          "text": [
            "Enter a number=7\n",
            "x= 7\n",
            "y= 14\n",
            "ZZZZZZZOOOOOOOOOOOOOO\n"
          ]
        }
      ]
    },
    {
      "cell_type": "code",
      "source": [
        ""
      ],
      "metadata": {
        "id": "W9T0lImgyl8Z"
      },
      "execution_count": null,
      "outputs": []
    }
  ]
}