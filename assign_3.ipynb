{
  "nbformat": 4,
  "nbformat_minor": 0,
  "metadata": {
    "colab": {
      "name": "assign 3.ipynb",
      "provenance": [],
      "collapsed_sections": [],
      "authorship_tag": "ABX9TyPlvqsbzyedwqnhezfx9YM5",
      "include_colab_link": true
    },
    "kernelspec": {
      "name": "python3",
      "display_name": "Python 3"
    },
    "language_info": {
      "name": "python"
    }
  },
  "cells": [
    {
      "cell_type": "markdown",
      "metadata": {
        "id": "view-in-github",
        "colab_type": "text"
      },
      "source": [
        "<a href=\"https://colab.research.google.com/github/RAJASEKHAR0107/2216110_AL-ML_BOOTCAMP/blob/main/assign_3.ipynb\" target=\"_parent\"><img src=\"https://colab.research.google.com/assets/colab-badge.svg\" alt=\"Open In Colab\"/></a>"
      ]
    },
    {
      "cell_type": "code",
      "execution_count": 1,
      "metadata": {
        "colab": {
          "base_uri": "https://localhost:8080/"
        },
        "id": "RHhJaegdPvJ_",
        "outputId": "53976606-c22f-4f33-a2e3-c8d8aaf303e6"
      },
      "outputs": [
        {
          "output_type": "stream",
          "name": "stdout",
          "text": [
            "addition of 2 num is 10\n",
            "sub of 2 num is 5\n"
          ]
        }
      ],
      "source": [
        "#class &objects\n",
        "class CO:\n",
        "    def subn(self,a,b):\n",
        "          return a-b\n",
        "    def addn(self,a,b):\n",
        "          return a+b\n",
        "obj=CO()\n",
        "print(\"addition of 2 num is\",obj.addn(5,5))\n",
        "print(\"sub of 2 num is\",obj.subn(10,5))"
      ]
    },
    {
      "cell_type": "code",
      "source": [
        "class c1:\n",
        "    '''description'''\n",
        "    class_var=\"demonstrates class creation\"\n",
        "    def cm(self):\n",
        "        return\"method invokation\"\n",
        "    def __str__(self):\n",
        "        return \"return string to object\"\n",
        "obj1=c1()\n",
        "print(obj1.class_var)\n",
        "print(obj1.cm())\n",
        "print(obj1)"
      ],
      "metadata": {
        "colab": {
          "base_uri": "https://localhost:8080/"
        },
        "id": "3X2J14chRQ0P",
        "outputId": "828a683f-bada-4244-d366-a7c60006a639"
      },
      "execution_count": 2,
      "outputs": [
        {
          "output_type": "stream",
          "name": "stdout",
          "text": [
            "demonstrates class creation\n",
            "method invokation\n",
            "return string to object\n"
          ]
        }
      ]
    },
    {
      "cell_type": "code",
      "source": [
        "class arth:\n",
        "    def subn(self,a,b):\n",
        "        return a-b\n",
        "    def addn(self,a,b):\n",
        "        return a+b\n",
        "    def mul(self,a,b):\n",
        "        return a*b\n",
        "    def div(self,a,b):\n",
        "        return a/b\n",
        "    def mo(self,a,b):\n",
        "        return a%b\n",
        "    def fl(self,a,b):\n",
        "        return a//b\n",
        "    def po(self,a,b):\n",
        "        return a**b\n",
        "obj=arth()\n",
        "print(\"Addition of 2 numbers is\",obj.addn(5,5))\n",
        "print(\"sub of 2 numbers is\",obj.subn(15,20))\n",
        "print(\"mul of 2 numbers is\",obj.mul(15,20))\n",
        "print(\"div of 2 numbers is\",obj.div(10,5))\n",
        "print(\"mo of 2 numbers is\",obj.subn(10,5))\n",
        "print(\"float div of 2 numbers is\",obj.subn(15,20))\n",
        "print(\"power of 2 numbers is\",obj.subn(10,5))"
      ],
      "metadata": {
        "colab": {
          "base_uri": "https://localhost:8080/"
        },
        "id": "hkwTgR_ARQxJ",
        "outputId": "0ca1e88d-47f0-4a9f-eeda-19c0b400344c"
      },
      "execution_count": 3,
      "outputs": [
        {
          "output_type": "stream",
          "name": "stdout",
          "text": [
            "Addition of 2 numbers is 10\n",
            "sub of 2 numbers is -5\n",
            "mul of 2 numbers is 300\n",
            "div of 2 numbers is 2.0\n",
            "mo of 2 numbers is 5\n",
            "float div of 2 numbers is -5\n",
            "power of 2 numbers is 5\n"
          ]
        }
      ]
    },
    {
      "cell_type": "code",
      "source": [
        "#inheritance\n",
        "\n",
        "#single\n",
        "class Animal:\n",
        "    def animal_sounds(self):\n",
        "        return \"makes sound\"\n",
        "class cat(Animal):\n",
        "    def cat_sound(self):\n",
        "        return self.animal_sounds()+\" MEOW\"\n",
        "    def __str__(self):\n",
        "        return \"CAT\"\n",
        "\n",
        "catobj=cat()\n",
        "print(catobj,catobj.cat_sound())"
      ],
      "metadata": {
        "colab": {
          "base_uri": "https://localhost:8080/"
        },
        "id": "8sYjsl9cRQuT",
        "outputId": "72acca59-5d32-452e-98a6-fccf586a5914"
      },
      "execution_count": 5,
      "outputs": [
        {
          "output_type": "stream",
          "name": "stdout",
          "text": [
            "CAT makes sound MEOW\n"
          ]
        }
      ]
    },
    {
      "cell_type": "code",
      "source": [
        "#multi level inheritence\n",
        "class animal:\n",
        "    def animal_sounds(self):\n",
        "         return \"makes sound\"\n",
        "class cat(animal):\n",
        "    def cat_sound(self):\n",
        "         return self.animal_sounds() + \" meow\"\n",
        "    def __str__(self):\n",
        "         return \"CAT\"\n",
        "\n",
        "class dog(animal):\n",
        "    def dog_sound(self):\n",
        "        return self.animal_sounds() + \" BOW\"\n",
        "    def __str__(self):\n",
        "        return \"DOG\"\n",
        "catobj=cat()\n",
        "print(catobj,catobj.cat_sound())\n",
        "dogobj=dog()\n",
        "print(dogobj,dogobj.dog_sound())"
      ],
      "metadata": {
        "colab": {
          "base_uri": "https://localhost:8080/"
        },
        "id": "SkbqNC7QRQdX",
        "outputId": "91e057bf-395e-40c2-bdb9-addc5e2b3b16"
      },
      "execution_count": 6,
      "outputs": [
        {
          "output_type": "stream",
          "name": "stdout",
          "text": [
            "CAT makes sound meow\n",
            "DOG makes sound BOW\n"
          ]
        }
      ]
    },
    {
      "cell_type": "code",
      "source": [
        "#multilevel inheritance \n",
        "class Animal:\n",
        "    def animal_sounds(self):\n",
        "        return \"makes sound\"\n",
        "class Cat(Animal):\n",
        "    def cat_sound(self):\n",
        "        return self.animal_sounds()+\"MEOW\"\n",
        "class CatColor(cat):\n",
        "    def __str__(self):\n",
        "        return \"CAT\"\n",
        "    def color(self):\n",
        "        return \"color is black\"\n",
        "catcolor=CatColor()\n",
        "print(catcolor,catcolor.cat_sound())\n",
        "print(catcolor,catcolor.color())"
      ],
      "metadata": {
        "colab": {
          "base_uri": "https://localhost:8080/"
        },
        "id": "23hGZ9X_RQZU",
        "outputId": "0ceae21d-3ae2-49df-9087-dde21cd07921"
      },
      "execution_count": 7,
      "outputs": [
        {
          "output_type": "stream",
          "name": "stdout",
          "text": [
            "CAT makes sound meow\n",
            "CAT color is black\n"
          ]
        }
      ]
    },
    {
      "cell_type": "code",
      "source": [
        "class Animal:\n",
        "    def animal_sounds(self):\n",
        "        return \"makes sound\"\n",
        "class Dog(Animal):\n",
        "    def Dog_sound(self):\n",
        "        return self.animal_sounds()+\" BOW\"\n",
        "class DogColor(Dog):\n",
        "    def __str__(self):\n",
        "        return \"DOG\"\n",
        "    def color(self):\n",
        "        return \"color is black\"\n",
        "dogcolor=DogColor()\n",
        "print(dogcolor,dogcolor.Dog_sound())\n",
        "print(dogcolor,dogcolor.color())"
      ],
      "metadata": {
        "colab": {
          "base_uri": "https://localhost:8080/"
        },
        "id": "NXJ9Y3ZBRQWE",
        "outputId": "a97d9a5c-0100-4c7a-b916-ac7344ce8795"
      },
      "execution_count": 9,
      "outputs": [
        {
          "output_type": "stream",
          "name": "stdout",
          "text": [
            "DOG makes sound BOW\n",
            "DOG color is black\n"
          ]
        }
      ]
    },
    {
      "cell_type": "code",
      "source": [
        "#exceptions\n",
        "#name \n",
        "try:\n",
        "    print(yash)\n",
        "except NameError as ne:\n",
        "    print(\"exception occurred\",ne)\n",
        "print(\"executed\")"
      ],
      "metadata": {
        "colab": {
          "base_uri": "https://localhost:8080/"
        },
        "id": "CEpLQWDoUbE4",
        "outputId": "b6b6e4a7-1aff-4f18-b853-bb1232b61d46"
      },
      "execution_count": 10,
      "outputs": [
        {
          "output_type": "stream",
          "name": "stdout",
          "text": [
            "exception occurred name 'yash' is not defined\n",
            "executed\n"
          ]
        }
      ]
    },
    {
      "cell_type": "code",
      "source": [
        "#vaulue error\n",
        "a='25 xyz'\n",
        "try:\n",
        "    print(int(a))\n",
        "except ValueError as e:\n",
        "    print(e)"
      ],
      "metadata": {
        "colab": {
          "base_uri": "https://localhost:8080/"
        },
        "id": "ncEtffOtUawf",
        "outputId": "8cd69c9c-7830-46e1-dbe0-f271c990fae5"
      },
      "execution_count": 11,
      "outputs": [
        {
          "output_type": "stream",
          "name": "stdout",
          "text": [
            "invalid literal for int() with base 10: '25 xyz'\n"
          ]
        }
      ]
    },
    {
      "cell_type": "code",
      "source": [
        "#exception handing\n",
        "#2003\n",
        "class instud(Exception):\n",
        "    pass\n",
        "stid=input(\"enter student id=\")\n",
        "try:\n",
        "    if stid[:4]!=\"2003\":\n",
        "        raise instud\n",
        "except instud:\n",
        "    print(\"error raised due to invalid details\")\n",
        "print(\"details verified\")"
      ],
      "metadata": {
        "colab": {
          "base_uri": "https://localhost:8080/"
        },
        "id": "NPHYJvkBUQfd",
        "outputId": "f95f8775-3fff-4270-8a65-99954223a799"
      },
      "execution_count": 12,
      "outputs": [
        {
          "output_type": "stream",
          "name": "stdout",
          "text": [
            "enter student id=2003\n",
            "details verified\n"
          ]
        }
      ]
    },
    {
      "cell_type": "code",
      "source": [
        "class instud(Exception):\n",
        "    def __str__(self):\n",
        "        return \"ERROR RAISED\"\n",
        "stid=input(\"enter student id=\")\n",
        "try:\n",
        "    if stid[:4]!=\"2003\":\n",
        "        raise instud\n",
        "except instud:\n",
        "     print(\"error raised due to invalid details\")\n",
        "print(\"details verified\")"
      ],
      "metadata": {
        "colab": {
          "base_uri": "https://localhost:8080/"
        },
        "id": "_zwJGAuxchm8",
        "outputId": "fad4c331-4f2e-4c33-b141-aeb1aa812894"
      },
      "execution_count": 13,
      "outputs": [
        {
          "output_type": "stream",
          "name": "stdout",
          "text": [
            "enter student id=2002\n",
            "error raised due to invalid details\n",
            "details verified\n"
          ]
        }
      ]
    },
    {
      "cell_type": "code",
      "source": [
        "class vote(Exception):\n",
        "     pass\n",
        "age=input(\"enter student id=\")\n",
        "try:\n",
        "    if age[:4]<=\"18\":\n",
        "        raise vote\n",
        "except vote:\n",
        "    print(\"error raised due to invalid details\")\n",
        "print(\"You can vote\")"
      ],
      "metadata": {
        "colab": {
          "base_uri": "https://localhost:8080/"
        },
        "id": "auS-Uywychjh",
        "outputId": "6e936af4-a35b-4bc7-bcc4-d61c4f05dce2"
      },
      "execution_count": 14,
      "outputs": [
        {
          "output_type": "stream",
          "name": "stdout",
          "text": [
            "enter student id=18\n",
            "error raised due to invalid details\n",
            "You can vote\n"
          ]
        }
      ]
    },
    {
      "cell_type": "code",
      "source": [
        "f=open(\"sample.txt\",\"x\")\n",
        "f.write(\"welcome\")\n",
        "f.close()"
      ],
      "metadata": {
        "id": "nixbGiiOchg8"
      },
      "execution_count": 15,
      "outputs": []
    },
    {
      "cell_type": "code",
      "source": [
        "f=open(\"sample.txt\",\"r\")\n",
        "print(f.read())\n",
        "f.close()"
      ],
      "metadata": {
        "colab": {
          "base_uri": "https://localhost:8080/"
        },
        "id": "tREby1lFc0sz",
        "outputId": "e69af52c-aff0-4c40-b6d6-b620b1c17cb5"
      },
      "execution_count": 16,
      "outputs": [
        {
          "output_type": "stream",
          "name": "stdout",
          "text": [
            "welcome\n"
          ]
        }
      ]
    },
    {
      "cell_type": "code",
      "source": [
        "import os\n",
        "os.remove(\"sample.txt\")"
      ],
      "metadata": {
        "id": "8Q_pNGbVc0pW"
      },
      "execution_count": 17,
      "outputs": []
    },
    {
      "cell_type": "code",
      "source": [
        "f=open(\"sample.txt\",\"x\")\n",
        "f.write(\"welcome\")\n",
        "f.close()"
      ],
      "metadata": {
        "id": "dq7VAaUcc0nA"
      },
      "execution_count": 18,
      "outputs": []
    },
    {
      "cell_type": "code",
      "source": [
        "f=open(\"sample.txt\",\"r\")\n",
        "print(f.read(3))\n",
        "print(f.tell())#tells where cursor is\n",
        "print(f.seek(2))#moves cursir to desired position \n",
        "print(f.seek(0))\n",
        "print(f.readline())\n",
        "print(f.readlines())\n",
        "f.close()"
      ],
      "metadata": {
        "colab": {
          "base_uri": "https://localhost:8080/"
        },
        "id": "zPjH8OsMdOM8",
        "outputId": "4b904953-bc56-4d13-c4cd-c384ba372774"
      },
      "execution_count": 19,
      "outputs": [
        {
          "output_type": "stream",
          "name": "stdout",
          "text": [
            "wel\n",
            "3\n",
            "2\n",
            "0\n",
            "welcome\n",
            "[]\n"
          ]
        }
      ]
    },
    {
      "cell_type": "code",
      "source": [
        "#copy paste\n",
        "f1=open(\"f24.txt\",\"x\")\n",
        "f2=open(\"f23.txt\",\"x\")"
      ],
      "metadata": {
        "id": "C2ZnoZQUdOJk"
      },
      "execution_count": 20,
      "outputs": []
    },
    {
      "cell_type": "code",
      "source": [
        "f1=open(\"f23.txt\",\"w\")\n",
        "f1.write(\"Copypaste\")\n",
        "f1.close()"
      ],
      "metadata": {
        "id": "5122P1tqdOG7"
      },
      "execution_count": 21,
      "outputs": []
    },
    {
      "cell_type": "code",
      "source": [
        "f1=open(\"f23.txt\",\"r\")\n",
        "temp=f1.read()\n",
        "f1.close()\n",
        "\n",
        "f2=open(\"f24.txt\",\"w\")\n",
        "f2.write(temp)\n",
        "f2.close()"
      ],
      "metadata": {
        "id": "PNlByDD4daDR"
      },
      "execution_count": 22,
      "outputs": []
    },
    {
      "cell_type": "code",
      "source": [
        "#pickle\n",
        "import pickle\n",
        "myl=['a','b','c','d']\n",
        "f4=open(\"datafile1.txt\",\"wb\")\n",
        "pickle.dump(myl,f4)\n",
        "f4.close()\n",
        "\n",
        "#unpickling\n",
        "import pickle\n",
        "picke_off=open(\"datafile1.txt\",\"rb\")\n",
        "e=pickle.load(picke_off)\n",
        "print(e)"
      ],
      "metadata": {
        "colab": {
          "base_uri": "https://localhost:8080/"
        },
        "id": "E221Apk8dZ7L",
        "outputId": "e20391ca-1e6e-4520-ba4c-c28db8a16ad5"
      },
      "execution_count": 23,
      "outputs": [
        {
          "output_type": "stream",
          "name": "stdout",
          "text": [
            "['a', 'b', 'c', 'd']\n"
          ]
        }
      ]
    },
    {
      "cell_type": "code",
      "source": [
        "#regular expressions\n",
        "import re\n",
        "pattern=r\"COOKIE\"\n",
        "sequence=(\"Cookie\")\n",
        "if re.match(pattern,sequence):\n",
        "     print(\"MATCHING\")\n",
        "else:\n",
        "     print(\"NOT A MATCH\")"
      ],
      "metadata": {
        "colab": {
          "base_uri": "https://localhost:8080/"
        },
        "id": "6Gyy84X6dZuG",
        "outputId": "807fe00a-78b1-4de5-dfc0-e5ab818b2538"
      },
      "execution_count": 24,
      "outputs": [
        {
          "output_type": "stream",
          "name": "stdout",
          "text": [
            "NOT A MATCH\n"
          ]
        }
      ]
    },
    {
      "cell_type": "code",
      "source": [
        "import re\n",
        "phone=input(\"Enter a number=\")\n",
        "print(re.search(r'\\d{10}',phone).group())"
      ],
      "metadata": {
        "colab": {
          "base_uri": "https://localhost:8080/"
        },
        "id": "UzxN1pZ3dwfQ",
        "outputId": "3b194dbc-e47a-4dfd-8d1a-227447620bca"
      },
      "execution_count": 25,
      "outputs": [
        {
          "output_type": "stream",
          "name": "stdout",
          "text": [
            "Enter a number=9121323530\n",
            "9121323530\n"
          ]
        }
      ]
    }
  ]
}